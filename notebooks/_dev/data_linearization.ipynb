{
 "cells": [
  {
   "cell_type": "code",
   "execution_count": 1,
   "metadata": {},
   "outputs": [],
   "source": [
    "import sys\n",
    "sys.path.append(\"..\")\n",
    "\n",
    "import src.utils.linearization_utils\n",
    "from src.datamodules import IEGenericDataset\n",
    "from transformers import T5Tokenizer\n",
    "\n",
    "tokenizer = T5Tokenizer.from_pretrained(\"google/flan-t5-base\")"
   ]
  },
  {
   "cell_type": "code",
   "execution_count": 2,
   "metadata": {},
   "outputs": [],
   "source": [
    "import json\n",
    "import numpy as np\n",
    "import os \n",
    "import jsonlines\n",
    "import inspect \n",
    "from tqdm import tqdm\n",
    "\n",
    "DATA_DIR='../data'\n",
    "\n",
    "def read_jsonl(path_to_file):\n",
    "    with open(path_to_file, 'r') as f:\n",
    "        data = [json.loads(line) for line in f]\n",
    "    return data\n",
    "\n",
    "def write_jsonl(path_to_file, data, mode='w'):\n",
    "    with jsonlines.open(path_to_file, mode) as writer:\n",
    "        writer.write_all(data)\n",
    "\n",
    "def get_data(data_dir, split):\n",
    "    data = read_jsonl(os.path.join(data_dir, split + '.jsonl'))\n",
    "    return data"
   ]
  },
  {
   "cell_type": "code",
   "execution_count": 3,
   "metadata": {},
   "outputs": [],
   "source": [
    "# reload linearization_utils to get the latest changes\n",
    "import importlib\n",
    "importlib.reload(src.utils.linearization_utils)\n",
    "\n",
    "class_name_e  = \"fully_expanded\"\n",
    "lc_e = src.utils.linearization_utils.get_linearization_class(class_name_e)\n",
    "\n",
    "class_name_et  = \"fully_expanded_et\"\n",
    "lc_et = src.utils.linearization_utils.get_linearization_class(class_name_et)\n",
    "\n",
    "class_name = \"subject_collapsed\"\n",
    "lc_sc = src.utils.linearization_utils.get_linearization_class(class_name)"
   ]
  },
  {
   "cell_type": "code",
   "execution_count": 4,
   "metadata": {},
   "outputs": [],
   "source": [
    "def _get_num_tokens(text, tokenizer):\n",
    "    return tokenizer(text, return_tensors=\"pt\")[\"input_ids\"].numel()\n",
    "\n",
    "def _add_input_num_tokens_to_dp(dp, tokenizer):\n",
    "    num_tokens_dict = dp.get('num_tokens_dict', {})\n",
    "    num_tokens_dict['text'] = _get_num_tokens(dp['text'], tokenizer)\n",
    "    dp['num_tokens_dict'] = num_tokens_dict\n",
    "\n",
    "def _add_input_num_tokens_to_data(data, tokenizer):\n",
    "    for dp in tqdm(data, desc=\"Adding input length information.\"):\n",
    "        _add_input_num_tokens_to_dp(dp, tokenizer)\n",
    "\n",
    "def add_input_info(data_dir, split, output_split, tokenizer, output_dir=None):\n",
    "    if output_dir is None:\n",
    "        output_dir = data_dir\n",
    "\n",
    "    print(f\"Adding input info to split `{split}` in `{data_dir}`...\")\n",
    "    data = get_data(data_dir, split)\n",
    "\n",
    "    # process the data\n",
    "    _add_input_num_tokens_to_data(data, tokenizer)\n",
    "    \n",
    "    if output_split != None:\n",
    "        output_file_path = os.path.join(data_dir, output_split + '.jsonl')\n",
    "        print(f\"Saving the processed data to {output_file_path}...\")\n",
    "        write_jsonl(output_file_path, data)\n",
    "    \n",
    "    return data\n",
    "\n",
    "def _add_target_num_tokens_to_dp(dp, tokenizer, linearization_class_id, add_target=False):\n",
    "    triplet_list_text = IEGenericDataset.get_triplets_surface_form(dp)\n",
    "    lc_et = src.utils.linearization_utils.get_linearization_class(linearization_class_id)\n",
    "    text, tokenized_text = lc_et.triplet_list_to_text(triplet_list_text, tokenizer)\n",
    "    num_tokens_dict = dp.get('num_tokens_dict', {})\n",
    "    num_tokens_dict[f'target_{linearization_class_id}'] = len(tokenized_text)\n",
    "    dp['num_tokens_dict'] = num_tokens_dict\n",
    "    if add_target:\n",
    "        target_dict = dp.get('target_dict', {})\n",
    "        target_dict[f'target_{linearization_class_id}'] = text\n",
    "        dp['target_dict'] = target_dict\n",
    "\n",
    "def _add_target_num_tokens_to_data(data, tokenizer, linearization_class_id, add_target=False):\n",
    "    for dp in tqdm(data, desc=\"Adding target length information.\"):\n",
    "        _add_target_num_tokens_to_dp(dp, tokenizer, linearization_class_id, add_target)\n",
    "\n",
    "\n",
    "def add_target_info(data_dir, split, output_split, tokenizer, linearization_class_id, add_target, output_dir=None):\n",
    "    if output_dir is None:\n",
    "        output_dir = data_dir\n",
    "\n",
    "    print(f\"Adding target info (linearization_class_id `{linearization_class_id}`) to split `{split}` in `{data_dir}`...\")\n",
    "    data = get_data(data_dir, split)\n",
    "\n",
    "    # process the data\n",
    "    _add_target_num_tokens_to_data(data, tokenizer, linearization_class_id, add_target)\n",
    "    \n",
    "    if output_split != None:\n",
    "        output_file_path = os.path.join(data_dir, output_split + '.jsonl')\n",
    "        print(f\"Saving the processed data to `{output_file_path}`...\")\n",
    "        write_jsonl(output_file_path, data)\n",
    "    \n",
    "    return data"
   ]
  },
  {
   "cell_type": "code",
   "execution_count": 5,
   "metadata": {},
   "outputs": [],
   "source": [
    "import numpy as np \n",
    "import matplotlib.pyplot as plt\n",
    "%matplotlib inline\n",
    "\n",
    "def visualize_num_tokens(data, dataset_name, split, fields=None, binwidth=10, ax=None, fig_size=(10, 5)):\n",
    "    if fields is None:\n",
    "        fields = data[0]['num_tokens_dict'].keys()\n",
    "\n",
    "    if ax is None:\n",
    "        fig, ax = plt.subplots(figsize=fig_size)\n",
    "    \n",
    "    for field in fields:\n",
    "        num_tokens = [dp['num_tokens_dict'][field] for dp in data]\n",
    "        ax.hist(num_tokens, bins=np.arange(min(num_tokens), max(num_tokens) + binwidth, binwidth), histtype=u'step', label=field)\n",
    "\n",
    "    plt.title(f\"[{dataset_name} / {split}] Token distribution\")\n",
    "    plt.legend()\n",
    "    plt.show()\n",
    "\n",
    "def visualize_num_elements_per_linearization(data, dataset_name, split, fields=None, binwidth=10, ax=None, fig_size=(10, 5)):\n",
    "    if fields is None:\n",
    "        fields = data[0]['target_dict'].keys()\n",
    "\n",
    "    if ax is None:\n",
    "        fig, ax = plt.subplots(figsize=fig_size)\n",
    "\n",
    "    for linearization_class_id in fields:\n",
    "        lin_class = src.utils.linearization_utils.get_linearization_class(linearization_class_id.lstrip('target_'))\n",
    "\n",
    "        x = []\n",
    "        for dp in data:\n",
    "            target = dp['target_dict'][linearization_class_id]\n",
    "            if \"flatten\" in inspect.signature(lin_class).parameters.keys():\n",
    "                target_parts = lin_class(target, flatten=True)\n",
    "            else:\n",
    "                target_parts = lin_class._split_text(target)\n",
    "            x.append(len(target_parts))\n",
    "\n",
    "        ax.hist(x, bins=np.arange(min(x), max(x) + binwidth, binwidth), histtype=u'step', label=linearization_class_id.lstrip('target_'))\n",
    "\n",
    "    plt.title(f\"[{dataset_name} / {split}] # of entity + relation subparts distribution\")\n",
    "    plt.legend()\n",
    "    plt.show()"
   ]
  },
  {
   "cell_type": "code",
   "execution_count": 13,
   "metadata": {},
   "outputs": [
    {
     "data": {
      "text/plain": [
       "{'id': 54977,\n",
       " 'triplets': [{'subject': {'surfaceform': 'Alberta', 'uri': 'Q1951'},\n",
       "   'object': {'surfaceform': 'Edmonton', 'uri': 'Q2096'},\n",
       "   'predicate': {'surfaceform': 'capital', 'uri': 'P36'}}],\n",
       " 'text': 'Terra Informa is a weekly, half-hour environmental news program produced out of CJSR Radio in Edmonton, Alberta. ',\n",
       " 'entities': [{'surfaceform': 'Alberta', 'uri': 'Q1951'},\n",
       "  {'surfaceform': 'Edmonton', 'uri': 'Q2096'}],\n",
       " 'relations': [{'surfaceform': 'capital', 'uri': 'P36'}],\n",
       " 'num_tokens_target': 17,\n",
       " 'num_tokens_input': 27}"
      ]
     },
     "execution_count": 13,
     "metadata": {},
     "output_type": "execute_result"
    }
   ],
   "source": [
    "dp"
   ]
  },
  {
   "cell_type": "code",
   "execution_count": 16,
   "metadata": {},
   "outputs": [
    {
     "name": "stdout",
     "output_type": "stream",
     "text": [
      "Adding input info to split `val` in `../data/rebel`...\n"
     ]
    },
    {
     "name": "stderr",
     "output_type": "stream",
     "text": [
      "Adding input length information.: 100%|██████████| 54978/54978 [00:06<00:00, 8200.38it/s]\n"
     ]
    },
    {
     "name": "stdout",
     "output_type": "stream",
     "text": [
      "Saving the processed data to ../data/rebel/val_token_stats.jsonl...\n"
     ]
    }
   ],
   "source": [
    "linearization_class_id = 'fully_expanded'\n",
    "\n",
    "dataset_name='rebel'\n",
    "split='val'\n",
    "output_split=None\n",
    "output_split='val_token_stats'\n",
    "\n",
    "data_input = add_input_info(data_dir=os.path.join(DATA_DIR, dataset_name), split=split, output_split=output_split, tokenizer=tokenizer)"
   ]
  },
  {
   "cell_type": "code",
   "execution_count": 20,
   "metadata": {},
   "outputs": [
    {
     "name": "stdout",
     "output_type": "stream",
     "text": [
      "54978\n"
     ]
    }
   ],
   "source": [
    "def are_triplets_with_same_subjects_consecutive(triplets):\n",
    "    past_subjects = set()\n",
    "    curr_subject = None\n",
    "\n",
    "    for triplet in triplets:\n",
    "        if curr_subject is None:\n",
    "            curr_subject = triplet[0]\n",
    "            \n",
    "        if triplet[0] != curr_subject:\n",
    "            if triplet[0] in past_subjects:\n",
    "                # the new subject has already been seen before\n",
    "                return False\n",
    "            past_subjects.add(triplet[0])\n",
    "            curr_subject = triplet[0]\n",
    "    \n",
    "    return True\n",
    "\n",
    "dataset_name='rebel'\n",
    "split='val_ordered'\n",
    "data = get_data(data_dir=os.path.join(DATA_DIR, dataset_name), split=split)\n",
    "\n",
    "print(len(data))\n",
    "for idx, dp in enumerate(data):\n",
    "    if idx in set([idx]):\n",
    "        continue\n",
    "    triplets = IEGenericDataset.get_triplets_surface_form(dp)\n",
    "    assert are_triplets_with_same_subjects_consecutive(triplets)\n",
    "    "
   ]
  },
  {
   "cell_type": "code",
   "execution_count": 22,
   "metadata": {},
   "outputs": [],
   "source": [
    "dataset_name='sdg'\n",
    "split='val_code_davinci_ordered'\n",
    "data_ordered = get_data(data_dir=os.path.join(DATA_DIR, dataset_name), split=split)"
   ]
  },
  {
   "cell_type": "code",
   "execution_count": 23,
   "metadata": {},
   "outputs": [],
   "source": [
    "dataset_name='sdg'\n",
    "split='val_code_davinci'\n",
    "data = get_data(data_dir=os.path.join(DATA_DIR, dataset_name), split=split)"
   ]
  },
  {
   "cell_type": "code",
   "execution_count": 25,
   "metadata": {},
   "outputs": [
    {
     "name": "stdout",
     "output_type": "stream",
     "text": [
      "0\n"
     ]
    }
   ],
   "source": [
    "for idx, (unordered_dp, ordered_dp) in enumerate(zip(data, data_ordered)):\n",
    "    unordered_triplets = IEGenericDataset.get_triplets_surface_form(unordered_dp)\n",
    "    ordered_triplets = IEGenericDataset.get_triplets_surface_form(ordered_dp)\n",
    "    if unordered_triplets != ordered_triplets:\n",
    "        print(idx)\n",
    "        break"
   ]
  },
  {
   "cell_type": "code",
   "execution_count": 31,
   "metadata": {},
   "outputs": [
    {
     "data": {
      "text/plain": [
       "[('Swedish_Open_Cultural_Heritage', 'file format', 'XML'),\n",
       " ('Swedish_Open_Cultural_Heritage', 'part of', 'Semantic_Web'),\n",
       " ('Swedish_Open_Cultural_Heritage',\n",
       "  'programming language',\n",
       "  'Java_(programming_language)'),\n",
       " ('Swedish_Open_Cultural_Heritage', 'instance of', 'Free_software')]"
      ]
     },
     "execution_count": 31,
     "metadata": {},
     "output_type": "execute_result"
    }
   ],
   "source": [
    "IEGenericDataset.get_triplets_surface_form(data[idx])"
   ]
  },
  {
   "cell_type": "code",
   "execution_count": 33,
   "metadata": {},
   "outputs": [
    {
     "data": {
      "text/plain": [
       "[('Swedish_Open_Cultural_Heritage', 'instance of', 'Free_software'),\n",
       " ('Swedish_Open_Cultural_Heritage', 'file format', 'XML'),\n",
       " ('Swedish_Open_Cultural_Heritage',\n",
       "  'programming language',\n",
       "  'Java_(programming_language)'),\n",
       " ('Swedish_Open_Cultural_Heritage', 'part of', 'Semantic_Web')]"
      ]
     },
     "execution_count": 33,
     "metadata": {},
     "output_type": "execute_result"
    }
   ],
   "source": [
    "IEGenericDataset.get_triplets_surface_form(data_ordered[idx])"
   ]
  },
  {
   "cell_type": "code",
   "execution_count": 11,
   "metadata": {},
   "outputs": [],
   "source": [
    "# def get_start_index_parts(text, sf_parts):\n",
    "#     max_subseq_len = len(sf_parts)\n",
    "    \n",
    "#     for l in range(max_subseq_len, 0, -1):\n",
    "#         for i in range(max_subseq_len - l + 1):\n",
    "#             subseq = ' '.join(sf_parts[i:i+l])\n",
    "#             try:\n",
    "#                 return text.index(subseq)\n",
    "#             except ValueError:\n",
    "#                 pass\n",
    "    \n",
    "#     return None\n",
    "\n",
    "# def _get_start_index(dp, sf):\n",
    "#     for entity in dp['entities']:\n",
    "#         if entity['surfaceform'] == sf:\n",
    "#             idx = entity['mention_start_index']\n",
    "    \n",
    "#     if idx is None:\n",
    "#         return float('inf')\n",
    "\n",
    "#     return idx\n",
    "    \n",
    "# input_text = dp['text'].lower()\n",
    "# entities = dp['entities']\n",
    "# entity_surfaceforms_parts = [entity['surfaceform'].lower().split(\"_\") for entity in entities]\n",
    "# mention_start_index = [get_start_index_parts(input_text, sf_parts) for sf_parts in entity_surfaceforms_parts]\n",
    "# for idx, entity in zip(mention_start_index, entities):\n",
    "#     entity['mention_start_index'] = idx\n",
    "\n",
    "# # apply_ordering\n",
    "# sub_obj_sf_pairs = [(triplet['subject']['surfaceform'], triplet['object']['surfaceform']) for triplet in dp['triplets']]\n",
    "# sub_obj_start_idx_pairs = np.array([(_get_start_index(dp, sub_sf), _get_start_index(dp, obj_sf)) for sub_sf, obj_sf in sub_obj_sf_pairs]).T\n",
    "# sub_ent_name = [triplet['subject']['surfaceform'] for triplet in dp['triplets']]\n",
    "\n",
    "# ordered_indices = np.lexsort((sub_obj_start_idx_pairs[1,:], sub_obj_start_idx_pairs[0,:]))\n",
    "# [IEGenericDataset.get_triplets_surface_form(dp)[idx] for idx in ordered_indices]"
   ]
  },
  {
   "cell_type": "code",
   "execution_count": 12,
   "metadata": {},
   "outputs": [],
   "source": [
    "# dataset_name='rebel'\n",
    "# split='val_token_stats'\n",
    "# output_split=None\n",
    "# output_split='val_token_stats'\n",
    "\n",
    "\n",
    "# add_target = True\n",
    "# linearization_class_id = 'fully_expanded'\n",
    "# data_target = add_target_info(data_dir=os.path.join(DATA_DIR, dataset_name), split=split, output_split=output_split, tokenizer=tokenizer, linearization_class_id=linearization_class_id, add_target=True)\n",
    "\n",
    "# linearization_class_id = 'fully_expanded_et'\n",
    "# data_target_et = add_target_info(data_dir=os.path.join(DATA_DIR, dataset_name), split=split, output_split=output_split, tokenizer=tokenizer, linearization_class_id=linearization_class_id, add_target=True)\n",
    "\n",
    "# linearization_class_id = 'subject_collapsed'\n",
    "# data_target_et = add_target_info(data_dir=os.path.join(DATA_DIR, dataset_name), split=split, output_split=output_split, tokenizer=tokenizer, linearization_class_id=linearization_class_id, add_target=True)"
   ]
  },
  {
   "cell_type": "code",
   "execution_count": 6,
   "metadata": {},
   "outputs": [],
   "source": [
    "def add_stats_to_split(dataset_name, split, output_split, add_input_stats, lin_class_ids_to_add):\n",
    "    if add_input_stats:\n",
    "        data_input = add_input_info(data_dir=os.path.join(DATA_DIR, dataset_name), split=split, output_split=output_split, tokenizer=tokenizer)\n",
    "        split = output_split\n",
    "    \n",
    "    for linearization_class_id in lin_class_ids_to_add:\n",
    "        add_target = True\n",
    "        data_target = add_target_info(data_dir=os.path.join(DATA_DIR, dataset_name), split=split, output_split=output_split, tokenizer=tokenizer, linearization_class_id=linearization_class_id, add_target=True)\n",
    "        split = output_split"
   ]
  },
  {
   "cell_type": "code",
   "execution_count": 8,
   "metadata": {},
   "outputs": [
    {
     "name": "stdout",
     "output_type": "stream",
     "text": [
      "Adding input info to split `val` in `../data/rebel`...\n"
     ]
    },
    {
     "name": "stderr",
     "output_type": "stream",
     "text": [
      "Adding input length information.: 100%|██████████| 54978/54978 [00:06<00:00, 8372.50it/s]\n"
     ]
    },
    {
     "name": "stdout",
     "output_type": "stream",
     "text": [
      "Saving the processed data to ../data/rebel/val_token_stats.jsonl...\n",
      "Adding target info (linearization_class_id `fully_expanded`) to split `val_token_stats` in `../data/rebel`...\n"
     ]
    },
    {
     "name": "stderr",
     "output_type": "stream",
     "text": [
      "Adding target length information.: 100%|██████████| 54978/54978 [00:41<00:00, 1336.48it/s]\n"
     ]
    },
    {
     "name": "stdout",
     "output_type": "stream",
     "text": [
      "Saving the processed data to `../data/rebel/val_token_stats.jsonl`...\n",
      "Adding target info (linearization_class_id `fully_expanded_et`) to split `val_token_stats` in `../data/rebel`...\n"
     ]
    },
    {
     "name": "stderr",
     "output_type": "stream",
     "text": [
      "Adding target length information.: 100%|██████████| 54978/54978 [00:41<00:00, 1329.79it/s]\n"
     ]
    },
    {
     "name": "stdout",
     "output_type": "stream",
     "text": [
      "Saving the processed data to `../data/rebel/val_token_stats.jsonl`...\n",
      "Adding target info (linearization_class_id `subject_collapsed`) to split `val_token_stats` in `../data/rebel`...\n"
     ]
    },
    {
     "name": "stderr",
     "output_type": "stream",
     "text": [
      "Adding target length information.: 100%|██████████| 54978/54978 [00:39<00:00, 1402.31it/s]\n"
     ]
    },
    {
     "name": "stdout",
     "output_type": "stream",
     "text": [
      "Saving the processed data to `../data/rebel/val_token_stats.jsonl`...\n"
     ]
    },
    {
     "data": {
      "image/png": "[encoded data removed]",
      "text/plain": [
       "<Figure size 720x360 with 1 Axes>"
      ]
     },
     "metadata": {
      "needs_background": "light"
     },
     "output_type": "display_data"
    },
    {
     "data": {
      "image/png": "[encoded data removed]",
      "text/plain": [
       "<Figure size 720x360 with 1 Axes>"
      ]
     },
     "metadata": {
      "needs_background": "light"
     },
     "output_type": "display_data"
    }
   ],
   "source": [
    "dataset_name='rebel'\n",
    "split='val'\n",
    "output_split='val_token_stats'\n",
    "lin_class_ids_to_add = ['fully_expanded', 'fully_expanded_et', 'subject_collapsed']\n",
    "\n",
    "add_stats_to_split(dataset_name, split, output_split, add_input_stats=True, lin_class_ids_to_add=lin_class_ids_to_add)\n",
    "\n",
    "dataset_name='rebel'\n",
    "split = \"val_token_stats\"\n",
    "data = get_data(os.path.join(DATA_DIR, dataset_name), split)\n",
    "\n",
    "visualize_num_tokens(data, dataset_name, split, ['text', 'target_fully_expanded', 'target_fully_expanded_et', 'target_subject_collapsed'])\n",
    "visualize_num_elements_per_linearization(data, dataset_name, split, binwidth=1)"
   ]
  },
  {
   "cell_type": "code",
   "execution_count": 9,
   "metadata": {},
   "outputs": [
    {
     "name": "stdout",
     "output_type": "stream",
     "text": [
      "Adding input info to split `val_code_davinci_ordered` in `../data/sdg`...\n"
     ]
    },
    {
     "name": "stderr",
     "output_type": "stream",
     "text": [
      "Adding input length information.: 100%|██████████| 15000/15000 [00:02<00:00, 7364.76it/s]\n"
     ]
    },
    {
     "name": "stdout",
     "output_type": "stream",
     "text": [
      "Saving the processed data to ../data/sdg/val_code_davinci_ordered_token_stats.jsonl...\n",
      "Adding target info (linearization_class_id `fully_expanded`) to split `val_code_davinci_ordered_token_stats` in `../data/sdg`...\n"
     ]
    },
    {
     "name": "stderr",
     "output_type": "stream",
     "text": [
      "Adding target length information.: 100%|██████████| 15000/15000 [00:29<00:00, 507.62it/s]\n"
     ]
    },
    {
     "name": "stdout",
     "output_type": "stream",
     "text": [
      "Saving the processed data to `../data/sdg/val_code_davinci_ordered_token_stats.jsonl`...\n",
      "Adding target info (linearization_class_id `fully_expanded_et`) to split `val_code_davinci_ordered_token_stats` in `../data/sdg`...\n"
     ]
    },
    {
     "name": "stderr",
     "output_type": "stream",
     "text": [
      "Adding target length information.: 100%|██████████| 15000/15000 [00:29<00:00, 510.80it/s]\n"
     ]
    },
    {
     "name": "stdout",
     "output_type": "stream",
     "text": [
      "Saving the processed data to `../data/sdg/val_code_davinci_ordered_token_stats.jsonl`...\n",
      "Adding target info (linearization_class_id `subject_collapsed`) to split `val_code_davinci_ordered_token_stats` in `../data/sdg`...\n"
     ]
    },
    {
     "name": "stderr",
     "output_type": "stream",
     "text": [
      "Adding target length information.: 100%|██████████| 15000/15000 [00:21<00:00, 701.25it/s]\n"
     ]
    },
    {
     "name": "stdout",
     "output_type": "stream",
     "text": [
      "Saving the processed data to `../data/sdg/val_code_davinci_ordered_token_stats.jsonl`...\n"
     ]
    },
    {
     "data": {
      "image/png": "[encoded data removed]",
      "text/plain": [
       "<Figure size 720x360 with 1 Axes>"
      ]
     },
     "metadata": {
      "needs_background": "light"
     },
     "output_type": "display_data"
    },
    {
     "data": {
      "image/png": "[encoded data removed]",
      "text/plain": [
       "<Figure size 720x360 with 1 Axes>"
      ]
     },
     "metadata": {
      "needs_background": "light"
     },
     "output_type": "display_data"
    }
   ],
   "source": [
    "dataset_name='sdg'\n",
    "split='val_code_davinci_ordered'\n",
    "output_split='val_code_davinci_ordered_token_stats'\n",
    "lin_class_ids_to_add = ['fully_expanded', 'fully_expanded_et', 'subject_collapsed']\n",
    "add_stats_to_split(dataset_name, split, output_split, add_input_stats=True, lin_class_ids_to_add=lin_class_ids_to_add)\n",
    "\n",
    "dataset_name='sdg'\n",
    "split = \"val_code_davinci_ordered_token_stats\"\n",
    "data = get_data(os.path.join(DATA_DIR, dataset_name), split)\n",
    "\n",
    "visualize_num_tokens(data, dataset_name, split, ['text', 'target_fully_expanded', 'target_fully_expanded_et', 'target_subject_collapsed'])\n",
    "visualize_num_elements_per_linearization(data, dataset_name, split, binwidth=1)"
   ]
  },
  {
   "cell_type": "code",
   "execution_count": 16,
   "metadata": {},
   "outputs": [],
   "source": [
    "dataset_name='rebel'\n",
    "split='val'\n",
    "\n",
    "data = get_data(os.path.join(DATA_DIR, dataset_name), split)"
   ]
  },
  {
   "cell_type": "code",
   "execution_count": 18,
   "metadata": {},
   "outputs": [
    {
     "data": {
      "text/plain": [
       "{'id': 0,\n",
       " 'triplets': [{'subject': {'surfaceform': 'Trinity_Peninsula',\n",
       "    'uri': 'Q2038835'},\n",
       "   'object': {'surfaceform': 'Graham_Land', 'uri': 'Q618370'},\n",
       "   'predicate': {'surfaceform': 'part of', 'uri': 'P361'}},\n",
       "  {'subject': {'surfaceform': 'Trinity_Peninsula', 'uri': 'Q2038835'},\n",
       "   'object': {'surfaceform': 'Antarctica', 'uri': 'Q51'},\n",
       "   'predicate': {'surfaceform': 'continent', 'uri': 'P30'}},\n",
       "  {'subject': {'surfaceform': 'Graham_Land', 'uri': 'Q618370'},\n",
       "   'object': {'surfaceform': 'Antarctica', 'uri': 'Q51'},\n",
       "   'predicate': {'surfaceform': 'continent', 'uri': 'P30'}}],\n",
       " 'text': \"Chelopech Hill (, ‘Halm Chelopech’ \\\\'h&lm che-lo-'pech\\\\) is the ice-covered hill rising to 946 m in the north foothills of Detroit Plateau on Trinity Peninsula in Graham Land, Antarctica. \",\n",
       " 'entities': [{'surfaceform': 'Trinity_Peninsula', 'uri': 'Q2038835'},\n",
       "  {'surfaceform': 'Graham_Land', 'uri': 'Q618370'},\n",
       "  {'surfaceform': 'Antarctica', 'uri': 'Q51'}],\n",
       " 'relations': [{'surfaceform': 'part of', 'uri': 'P361'},\n",
       "  {'surfaceform': 'continent', 'uri': 'P30'}],\n",
       " 'num_tokens_target': 68,\n",
       " 'num_tokens_input': 66}"
      ]
     },
     "execution_count": 18,
     "metadata": {},
     "output_type": "execute_result"
    }
   ],
   "source": [
    "data[0]"
   ]
  },
  {
   "cell_type": "code",
   "execution_count": 7,
   "metadata": {},
   "outputs": [],
   "source": [
    "# Add target linearization to all datapoints\n",
    "# Add num_tokens_to_all"
   ]
  },
  {
   "cell_type": "code",
   "execution_count": 11,
   "metadata": {},
   "outputs": [],
   "source": [
    "for dp in data:\n",
    "    break"
   ]
  },
  {
   "cell_type": "code",
   "execution_count": 15,
   "metadata": {},
   "outputs": [
    {
     "data": {
      "text/plain": [
       "('[s] Trinity Peninsula [r] part_of [o] Graham Land [et] [s] Trinity Peninsula [r] continent [o] Antarctica [et] [s] Graham Land [r] continent [o] Antarctica [et]',\n",
       " None)"
      ]
     },
     "execution_count": 15,
     "metadata": {},
     "output_type": "execute_result"
    }
   ],
   "source": [
    "triplets_list_text = IEGenericDataset.get_triplets_surface_form(dp)\n",
    "lc_et.triplet_list_to_text(triplets_list_text)"
   ]
  },
  {
   "cell_type": "code",
   "execution_count": 16,
   "metadata": {},
   "outputs": [
    {
     "data": {
      "text/plain": [
       "\"Chelopech Hill (, ‘Halm Chelopech’ \\\\'h&lm che-lo-'pech\\\\) is the ice-covered hill rising to 946 m in the north foothills of Detroit Plateau on Trinity Peninsula in Graham Land, Antarctica. \""
      ]
     },
     "execution_count": 16,
     "metadata": {},
     "output_type": "execute_result"
    }
   ],
   "source": [
    "dp['text']"
   ]
  },
  {
   "cell_type": "code",
   "execution_count": 18,
   "metadata": {},
   "outputs": [],
   "source": []
  },
  {
   "cell_type": "code",
   "execution_count": 14,
   "metadata": {},
   "outputs": [],
   "source": [
    "dataset_name='sdg'\n",
    "split='val_code_davinci_ordered'\n",
    "output_split=None\n",
    "# output_split='val_code_davinci_ordered'\n",
    "\n",
    "data = get_data(os.path.join(DATA_DIR, dataset_name), split)"
   ]
  },
  {
   "cell_type": "code",
   "execution_count": 15,
   "metadata": {},
   "outputs": [
    {
     "data": {
      "text/plain": [
       "{'id': 21,\n",
       " 'entities': [{'surfaceform': 'Swedish_Open_Cultural_Heritage',\n",
       "   'uri': 'Q7654799',\n",
       "   'mention_start_index': 0},\n",
       "  {'surfaceform': 'XML', 'uri': 'Q2115', 'mention_start_index': 64},\n",
       "  {'surfaceform': 'Semantic_Web', 'uri': 'Q54837', 'mention_start_index': 141},\n",
       "  {'surfaceform': 'Java_(programming_language)',\n",
       "   'uri': 'Q251',\n",
       "   'mention_start_index': 89},\n",
       "  {'surfaceform': 'Free_software', 'uri': 'Q341', 'mention_start_index': 36}],\n",
       " 'relations': [{'surfaceform': 'file format', 'uri': 'P2701'},\n",
       "  {'surfaceform': 'part of', 'uri': 'P361'},\n",
       "  {'surfaceform': 'programming language', 'uri': 'P277'},\n",
       "  {'surfaceform': 'instance of', 'uri': 'P31'}],\n",
       " 'triplets': [{'subject': {'surfaceform': 'Swedish_Open_Cultural_Heritage',\n",
       "    'uri': 'Q7654799'},\n",
       "   'object': {'surfaceform': 'Free_software', 'uri': 'Q341'},\n",
       "   'predicate': {'surfaceform': 'instance of', 'uri': 'P31'}},\n",
       "  {'subject': {'surfaceform': 'Swedish_Open_Cultural_Heritage',\n",
       "    'uri': 'Q7654799'},\n",
       "   'object': {'surfaceform': 'XML', 'uri': 'Q2115'},\n",
       "   'predicate': {'surfaceform': 'file format', 'uri': 'P2701'}},\n",
       "  {'subject': {'surfaceform': 'Swedish_Open_Cultural_Heritage',\n",
       "    'uri': 'Q7654799'},\n",
       "   'object': {'surfaceform': 'Java_(programming_language)', 'uri': 'Q251'},\n",
       "   'predicate': {'surfaceform': 'programming language', 'uri': 'P277'}},\n",
       "  {'subject': {'surfaceform': 'Swedish_Open_Cultural_Heritage',\n",
       "    'uri': 'Q7654799'},\n",
       "   'object': {'surfaceform': 'Semantic_Web', 'uri': 'Q54837'},\n",
       "   'predicate': {'surfaceform': 'part of', 'uri': 'P361'}}],\n",
       " 'text': 'Swedish Open Cultural Heritage is a free software project using XML as a file format and Java as its programming language. It is part of the Semantic Web.',\n",
       " 'num_tokens_target': 128,\n",
       " 'num_tokens_input': 37}"
      ]
     },
     "execution_count": 15,
     "metadata": {},
     "output_type": "execute_result"
    }
   ],
   "source": [
    "data[0]"
   ]
  },
  {
   "cell_type": "code",
   "execution_count": 200,
   "metadata": {},
   "outputs": [
    {
     "data": {
      "text/plain": [
       "[('45th_Infantry_Division_(United_States)',\n",
       "  'size designation',\n",
       "  'Division_(military)'),\n",
       " ('45th_Infantry_Division_(United_States)',\n",
       "  'military branch',\n",
       "  'United_States_Army'),\n",
       " ('45th_Infantry_Division_(United_States)',\n",
       "  'headquarters location',\n",
       "  'Oklahoma_City'),\n",
       " ('Division_(military)',\n",
       "  'described by source',\n",
       "  'Armenian_Soviet_Encyclopedia'),\n",
       " ('United_States_Army',\n",
       "  'parent organization',\n",
       "  'United_States_Department_of_the_Army')]"
      ]
     },
     "execution_count": 200,
     "metadata": {},
     "output_type": "execute_result"
    }
   ],
   "source": [
    "triplets = IEGenericDataset.get_triplets_surface_form(data[280])\n",
    "triplets"
   ]
  },
  {
   "cell_type": "code",
   "execution_count": 231,
   "metadata": {},
   "outputs": [],
   "source": [
    "# reload linearization_utils to get the latest changes\n",
    "import importlib\n",
    "importlib.reload(src.utils.linearization_utils)\n",
    "\n",
    "class_name_e  = \"fully_expanded\"\n",
    "lc_e = src.utils.linearization_utils.get_linearization_class(class_name_e)\n",
    "\n",
    "class_name_et  = \"fully_expanded_et\"\n",
    "lc_et = src.utils.linearization_utils.get_linearization_class(class_name_et)\n",
    "\n",
    "class_name = \"subject_collapsed\"\n",
    "lc_sc = src.utils.linearization_utils.get_linearization_class(class_name)"
   ]
  },
  {
   "cell_type": "code",
   "execution_count": 232,
   "metadata": {},
   "outputs": [
    {
     "data": {
      "text/plain": [
       "True"
      ]
     },
     "execution_count": 232,
     "metadata": {},
     "output_type": "execute_result"
    }
   ],
   "source": [
    "# check that ids support is still as expected\n",
    "text, ids = lc_sc.triplet_list_to_text(triplets, tokenizer=tokenizer)\n",
    "text == tokenizer.decode(ids[:-1])"
   ]
  },
  {
   "cell_type": "code",
   "execution_count": 233,
   "metadata": {},
   "outputs": [
    {
     "data": {
      "text/plain": [
       "'[s] 45th_Infantry_Division_(United_States) [r] size designation [o] Division_(military) [r] military branch [o] United_States_Army [r] headquarters location [o] Oklahoma_City [e] [s] Division_(military) [r] described by source [o] Armenian_Soviet_Encyclopedia [e] [s] United_States_Army [r] parent organization [o] United_States_Department_of_the_Army [e]'"
      ]
     },
     "execution_count": 233,
     "metadata": {},
     "output_type": "execute_result"
    }
   ],
   "source": [
    "# visual on target \n",
    "text"
   ]
  },
  {
   "cell_type": "code",
   "execution_count": 234,
   "metadata": {},
   "outputs": [],
   "source": [
    "collapsed_triplets_parts = lc_sc._split_text(text)"
   ]
  },
  {
   "cell_type": "code",
   "execution_count": 235,
   "metadata": {},
   "outputs": [],
   "source": [
    "text_parts = []\n",
    "for triplet_parts in collapsed_triplets_parts:\n",
    "    current_sub = triplet_parts[0]\n",
    "    rel_object_parts = triplet_parts[1:]\n",
    "\n",
    "    if True and len(rel_object_parts) % 2 != 0:\n",
    "        # log.info(f\"Textual sequence: ```{' '.join(triplet_parts)}``` does not follow the collapsed triplet\n",
    "        # format!\")\n",
    "        print(f\"Textual sequence: ```{' '.join(triplet_parts)}``` does not follow the collapsed triplet format!\")\n",
    "        rel_object_parts = rel_object_parts[:-1]\n",
    "\n",
    "    it = iter(rel_object_parts)\n",
    "    for rel in it:\n",
    "        obj = next(it)\n",
    "        text_parts.append((current_sub, rel, obj))"
   ]
  },
  {
   "cell_type": "code",
   "execution_count": 236,
   "metadata": {},
   "outputs": [
    {
     "data": {
      "text/plain": [
       "[('45th_Infantry_Division_(United_States)',\n",
       "  'size designation',\n",
       "  'Division_(military)'),\n",
       " ('45th_Infantry_Division_(United_States)',\n",
       "  'military branch',\n",
       "  'United_States_Army'),\n",
       " ('45th_Infantry_Division_(United_States)',\n",
       "  'headquarters location',\n",
       "  'Oklahoma_City'),\n",
       " ('Division_(military)',\n",
       "  'described by source',\n",
       "  'Armenian_Soviet_Encyclopedia'),\n",
       " ('United_States_Army',\n",
       "  'parent organization',\n",
       "  'United_States_Department_of_the_Army')]"
      ]
     },
     "execution_count": 236,
     "metadata": {},
     "output_type": "execute_result"
    }
   ],
   "source": [
    "text_parts"
   ]
  },
  {
   "cell_type": "code",
   "execution_count": 242,
   "metadata": {},
   "outputs": [
    {
     "data": {
      "text/plain": [
       "True"
      ]
     },
     "execution_count": 242,
     "metadata": {},
     "output_type": "execute_result"
    }
   ],
   "source": [
    "# text -> triplets\n",
    "lc_sc.text_to_triplet_list(text, return_set=False) == triplets"
   ]
  },
  {
   "cell_type": "code",
   "execution_count": 255,
   "metadata": {},
   "outputs": [],
   "source": [
    "# triplets -> target -> triplets (all datapoints)\n",
    "for dp in data:\n",
    "    triplets = IEGenericDataset.get_triplets_surface_form(dp)\n",
    "    text, _ = lc_sc.triplet_list_to_text(triplets)\n",
    "    # print(text)\n",
    "    # print(lc_sc._split_text(text, flatten=True))\n",
    "    assert triplets == lc_sc.text_to_triplet_list(text, return_set=False)"
   ]
  },
  {
   "cell_type": "code",
   "execution_count": null,
   "metadata": {},
   "outputs": [],
   "source": []
  },
  {
   "cell_type": "code",
   "execution_count": 165,
   "metadata": {},
   "outputs": [],
   "source": [
    "# Note that this implementation assumes that the triplets have been order by subject\n",
    "\n",
    "surface_forms = {    \n",
    "    \"{subject_id}\": \"[s]\",\n",
    "    \"{relation_id}\": \"[r]\",\n",
    "    \"{object_id}\": \"[o]\",\n",
    "    \"{et_id}\": \"[e]\",\n",
    "    \"{separator}\": \" \"\n",
    "}\n",
    "\n",
    "inside_triplet_format_parts = [\n",
    "    \"{relation_id}\",\n",
    "    \" \",\n",
    "    \"{relation}\",\n",
    "    \" \",\n",
    "    \"{object_id}\",\n",
    "    \" \",\n",
    "    \"{object}\",\n",
    "    \" \"\n",
    "]\n",
    "\n",
    "starting_triplet_format_parts = [\n",
    "    \"{et_id}\",\n",
    "    \"{separator}\",\n",
    "    \"{subject_id}\",\n",
    "    \" \",\n",
    "    \"{subject}\",\n",
    "    \" \",\n",
    "    \"{relation_id}\",\n",
    "    \" \",\n",
    "    \"{relation}\",\n",
    "    \" \",\n",
    "    \"{object_id}\",\n",
    "    \" \",\n",
    "    \"{object}\",\n",
    "    \" \"\n",
    "]\n",
    "\n",
    "current_sub = None\n",
    "linearized_triplets_text_parts = []\n",
    "\n",
    "for sub, rel, obj in triplets:\n",
    "    surface_forms.update({\"{subject}\": sub, \"{relation}\": rel, \"{object}\": obj})\n",
    "    # surface_forms[\"{subject}\"] = cls.normalize_spaces(surface_forms[\"{subject}\"], cls.keep_spaces_entities)\n",
    "    # surface_forms[\"{relation}\"] = cls.normalize_spaces(surface_forms[\"{relation}\"], cls.keep_spaces_relations)\n",
    "    # surface_forms[\"{object}\"] = cls.normalize_spaces(surface_forms[\"{object}\"], cls.keep_spaces_entities)\n",
    "\n",
    "    if current_sub != sub or current_sub is None:\n",
    "        current_sub = sub\n",
    "        triplet_format_parts = starting_triplet_format_parts\n",
    "    else:\n",
    "        triplet_format_parts = inside_triplet_format_parts\n",
    "\n",
    "    \n",
    "    # Format the triplet and add its constituent parts to the list of linearized triplets\n",
    "    linearized_triplets_text_parts.extend([surface_forms.get(item, item) for item in triplet_format_parts])\n",
    "\n",
    "linearized_triplets_text_parts = linearized_triplets_text_parts[2:]\n",
    "linearized_triplets_text_parts.append(surface_forms[\"{et_id}\"])\n",
    "text = \"\".join(linearized_triplets_text_parts)"
   ]
  },
  {
   "cell_type": "code",
   "execution_count": 166,
   "metadata": {},
   "outputs": [
    {
     "data": {
      "text/plain": [
       "'[s] Hronská_Breznica [r] located in or next to body of water [o] Hron [r] located in the administrative territorial entity [o] Zvolen_District [e] [s] Hron [r] located in the administrative territorial entity [o] Banská_Bystrica_Region [e] [s] Hronská_Breznica [r] country [o] Slovakia [e] [s] Hron [r] described by source [o] Svensk_uppslagsbok [e] [s] Banská_Bystrica_Region [r] contains administrative territorial entity [o] Veľký_Krtíš_District [e]'"
      ]
     },
     "execution_count": 166,
     "metadata": {},
     "output_type": "execute_result"
    }
   ],
   "source": [
    "text"
   ]
  },
  {
   "cell_type": "code",
   "execution_count": 108,
   "metadata": {},
   "outputs": [],
   "source": [
    "# folder = \"../data/sdg\"\n",
    "# split = \"val_code_davinci_ordered\"\n",
    "# path_to_file = os.path.join(folder, split + '.jsonl')\n",
    "# data = read_jsonl(path_to_file)"
   ]
  },
  {
   "cell_type": "code",
   "execution_count": null,
   "metadata": {},
   "outputs": [],
   "source": []
  }
 ],
 "metadata": {
  "kernelspec": {
   "display_name": "mlr",
   "language": "python",
   "name": "python3"
  },
  "language_info": {
   "codemirror_mode": {
    "name": "ipython",
    "version": 3
   },
   "file_extension": ".py",
   "mimetype": "text/x-python",
   "name": "python",
   "nbconvert_exporter": "python",
   "pygments_lexer": "ipython3",
   "version": "3.9.13"
  },
  "orig_nbformat": 4,
  "vscode": {
   "interpreter": {
    "hash": "61a29ff56f295d5304320f1d8bf976f57364ea8d91ff2512104112c4617b5d63"
   }
  }
 },
 "nbformat": 4,
 "nbformat_minor": 2
}
