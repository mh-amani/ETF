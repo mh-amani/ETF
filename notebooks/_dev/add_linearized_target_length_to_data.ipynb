{
 "cells": [
  {
   "cell_type": "code",
   "execution_count": 1,
   "metadata": {},
   "outputs": [],
   "source": [
    "import sys\n",
    "sys.path.append(\"..\")"
   ]
  },
  {
   "cell_type": "code",
   "execution_count": 2,
   "metadata": {},
   "outputs": [],
   "source": []
  },
  {
   "cell_type": "code",
   "execution_count": 65,
   "metadata": {},
   "outputs": [
    {
     "data": {
      "text/plain": [
       "<module 'src.utils.linearization_utils' from '/Users/josifosk/Documents/PhD/SynthIE_main/notebooks/../src/utils/linearization_utils.py'>"
      ]
     },
     "execution_count": 65,
     "metadata": {},
     "output_type": "execute_result"
    }
   ],
   "source": []
  },
  {
   "cell_type": "code",
   "execution_count": 66,
   "metadata": {},
   "outputs": [],
   "source": [
    "class_name_e  = \"fully_expanded\"\n",
    "lc_e = src.utils.linearization_utils.get_linearization_class(class_name_e)\n",
    "\n",
    "class_name_et  = \"fully_expanded_et\"\n",
    "lc_et = src.utils.linearization_utils.get_linearization_class(class_name_et)"
   ]
  },
  {
   "cell_type": "code",
   "execution_count": 19,
   "metadata": {},
   "outputs": [],
   "source": [
    "import os\n",
    "import json\n",
    "import numpy as np\n",
    "import pandas as pd\n",
    "\n",
    "DATA_DIR='../data'\n",
    "\n",
    "def read_jsonl(path_to_file):\n",
    "    with open(path_to_file, 'r') as f:\n",
    "        data = [json.loads(line) for line in f]\n",
    "    return data\n",
    "\n",
    "def get_data(data_dir, split):\n",
    "    data = read_jsonl(os.path.join(data_dir, split + '.jsonl'))\n",
    "    return data"
   ]
  },
  {
   "cell_type": "code",
   "execution_count": 67,
   "metadata": {},
   "outputs": [],
   "source": [
    "dataset_name='sdg'\n",
    "split='val_code_davinci'\n",
    "data = get_data(os.path.join(DATA_DIR, dataset_name), split)"
   ]
  },
  {
   "cell_type": "code",
   "execution_count": 68,
   "metadata": {},
   "outputs": [],
   "source": [
    "triplets_text = IEGenericDataset.get_triplets_surface_form(data[0])"
   ]
  },
  {
   "cell_type": "code",
   "execution_count": 73,
   "metadata": {},
   "outputs": [
    {
     "data": {
      "text/plain": [
       "('[s] Swedish Open Cultural Heritage [r] file_format [o] XML [e] [s] Swedish Open Cultural Heritage [r] part_of [o] Semantic Web [e] [s] Swedish Open Cultural Heritage [r] programming_language [o] Java (programming language) [e] [s] Swedish Open Cultural Heritage [r] instance_of [o] Free software [e]',\n",
       " None)"
      ]
     },
     "execution_count": 73,
     "metadata": {},
     "output_type": "execute_result"
    }
   ],
   "source": [
    "lc_e.triplet_list_to_text(triplets_text)"
   ]
  },
  {
   "cell_type": "code",
   "execution_count": 72,
   "metadata": {},
   "outputs": [],
   "source": [
    "text, ids = lc_et.triplet_list_to_text(triplets_text, tokenizer)"
   ]
  },
  {
   "cell_type": "code",
   "execution_count": 76,
   "metadata": {},
   "outputs": [
    {
     "data": {
      "text/plain": [
       "96"
      ]
     },
     "execution_count": 76,
     "metadata": {},
     "output_type": "execute_result"
    }
   ],
   "source": [
    "len(ids)"
   ]
  },
  {
   "cell_type": "code",
   "execution_count": 46,
   "metadata": {},
   "outputs": [],
   "source": [
    "import re\n",
    "\n",
    "surface_forms = {\n",
    "    \"{subject_id}\": \"[s]\",\n",
    "    \"{relation_id}\": \"[r]\",\n",
    "    \"{object_id}\": \"[o]\",\n",
    "    \"{et_id}\": \"[et]\",\n",
    "    \"{separator}\": \" \"\n",
    "  }\n",
    "\n",
    "regex = re.compile(\"|\".join([re.escape(surface_forms[_id])\n",
    "                                for _id in [\"{subject_id}\", \"{relation_id}\", \"{object_id}\", \"{et_id}\"]]))"
   ]
  },
  {
   "cell_type": "code",
   "execution_count": 71,
   "metadata": {},
   "outputs": [
    {
     "data": {
      "text/plain": [
       "12"
      ]
     },
     "execution_count": 71,
     "metadata": {},
     "output_type": "execute_result"
    }
   ],
   "source": [
    "text_parts = [\n",
    "    element.strip(surface_forms['{separator}']).strip().strip(surface_forms['{separator}'])\n",
    "    for element in re.split(regex, text) if element.strip()\n",
    "]\n",
    "\n",
    "len(text_parts)"
   ]
  },
  {
   "cell_type": "code",
   "execution_count": 40,
   "metadata": {},
   "outputs": [
    {
     "data": {
      "text/plain": [
       "{('Swedish Open Cultural Heritage', 'file_format', 'XML'),\n",
       " ('Swedish Open Cultural Heritage', 'part_of', 'Semantic Web'),\n",
       " ('Swedish Open Cultural Heritage',\n",
       "  'programming_language',\n",
       "  'Java (programming language)')}"
      ]
     },
     "execution_count": 40,
     "metadata": {},
     "output_type": "execute_result"
    }
   ],
   "source": [
    "lc_et.text_to_triplet_list(text[:-50])"
   ]
  },
  {
   "cell_type": "code",
   "execution_count": 11,
   "metadata": {},
   "outputs": [],
   "source": [
    "import json\n",
    "import numpy as np\n",
    "import os \n",
    "import jsonlines\n",
    "from tqdm import tqdm\n",
    "from transformers import T5Tokenizer\n",
    "\n",
    "\n",
    "tokenizer = T5Tokenizer.from_pretrained(\"google/flan-t5-base\")\n",
    "target_linearization = {\n",
    "  \"formatted_triplet\": [\"{subject_id}\", \" \", \"{subject}\", \" \", \"{relation_id}\", \" \", \"{relation}\", \" \", \"{object_id}\", \" \", \"{object}\", \" \", \"{et_id}\"],\n",
    "  \"keep_spaces\": False,\n",
    "  \"surface_forms\": {\n",
    "    \"{subject_id}\": \"[s]\",\n",
    "    \"{relation_id}\": \"[r]\",\n",
    "    \"{object_id}\": \"[o]\",\n",
    "    \"{et_id}\": \"[et]\",\n",
    "    \"{separator}\": \" \"\n",
    "  }\n",
    "}         \n",
    "\n",
    "def _get_triplet_surfaceform(triplet):\n",
    "    return triplet[\"subject\"][\"surfaceform\"], triplet[\"predicate\"][\"surfaceform\"], triplet[\"object\"][\"surfaceform\"]"
   ]
  },
  {
   "cell_type": "code",
   "execution_count": 1,
   "metadata": {},
   "outputs": [],
   "source": [
    "import re"
   ]
  },
  {
   "cell_type": "code",
   "execution_count": 15,
   "metadata": {},
   "outputs": [],
   "source": [
    "text = \"[s] sub1 [r] rel1 [o] obj 1 [et] [s] sub2 [r] rel2 [o] obj 2 [et] [s] sub3 [r] rel3 [o] obj3 [et]\"\n",
    "text_parts = [\n",
    "            element.strip() for element in re.split(re.compile(\"\\[s\\]|\\[r\\]|\\[o\\]|\\[et\\]|\\[e\\]\"), text) if element.strip()\n",
    "        ]"
   ]
  },
  {
   "cell_type": "code",
   "execution_count": 16,
   "metadata": {},
   "outputs": [],
   "source": [
    "surface_forms = {\n",
    "    \"{subject_id}\": \"[s]\",\n",
    "    \"{relation_id}\": \"[r]\",\n",
    "    \"{object_id}\": \"[o]\",\n",
    "    \"{et_id}\": \"[et]\",\n",
    "    \"{separator}\": \" \"\n",
    "}"
   ]
  },
  {
   "cell_type": "code",
   "execution_count": 17,
   "metadata": {},
   "outputs": [
    {
     "data": {
      "text/plain": [
       "['sub1', 'rel1', 'obj 1', 'sub2', 'rel2', 'obj 2', 'sub3', 'rel3', 'obj3']"
      ]
     },
     "execution_count": 17,
     "metadata": {},
     "output_type": "execute_result"
    }
   ],
   "source": [
    "text_parts"
   ]
  },
  {
   "cell_type": "code",
   "execution_count": 24,
   "metadata": {},
   "outputs": [
    {
     "data": {
      "text/plain": [
       "['sub1', 'rel1', 'obj 1', 'sub2', 'rel2', 'obj 2', 'sub3', 'rel3', 'obj3']"
      ]
     },
     "execution_count": 24,
     "metadata": {},
     "output_type": "execute_result"
    }
   ],
   "source": [
    "text_parts2 = [\n",
    "            element.strip(surface_forms['{separator}']).strip().strip(surface_forms['{separator}']) for element in re.split(re.compile(\"|\".join([re.escape(surface_forms[_id]) for _id in [\"{subject_id}\", \"{relation_id}\", \"{object_id}\", \"{et_id}\"]])), text) if element.strip()\n",
    "        ]\n",
    "text_parts2"
   ]
  },
  {
   "cell_type": "code",
   "execution_count": 2,
   "metadata": {},
   "outputs": [
    {
     "data": {
      "text/plain": [
       "'\\\\[s\\\\]'"
      ]
     },
     "execution_count": 2,
     "metadata": {},
     "output_type": "execute_result"
    }
   ],
   "source": [
    "re.escape(\"[s]\")"
   ]
  },
  {
   "cell_type": "code",
   "execution_count": 45,
   "metadata": {},
   "outputs": [],
   "source": [
    "def process_split(split, output_split, folder):\n",
    "    path_to_file = os.path.join(folder, split + '.jsonl')\n",
    "    data = read_jsonl(path_to_file)\n",
    "\n",
    "    for obj in tqdm(data):\n",
    "        triplets_list = [_get_triplet_surfaceform(triplet) for triplet in obj[\"triplets\"]]\n",
    "        _, ids = TripletUtils.linearize_triplet_list_complex(triplets_list, tokenizer=tokenizer, **target_linearization)\n",
    "        obj['num_tokens_target'] = len(ids)\n",
    "        obj['num_tokens_input'] = len(tokenizer.encode(obj['text'].strip()))\n",
    "\n",
    "    output_file_path = os.path.join(folder, output_split + '.jsonl')\n",
    "    with jsonlines.open(output_file_path, \"w\") as writer:\n",
    "        writer.write_all(data)"
   ]
  },
  {
   "attachments": {},
   "cell_type": "markdown",
   "metadata": {},
   "source": [
    "### Add Target Linearization and length of input and target"
   ]
  },
  {
   "cell_type": "markdown",
   "metadata": {},
   "source": [
    "#### Rebel"
   ]
  },
  {
   "cell_type": "code",
   "execution_count": 66,
   "metadata": {},
   "outputs": [
    {
     "name": "stderr",
     "output_type": "stream",
     "text": [
      " 41%|████      | 406111/993847 [05:47<08:30, 1150.66it/s]Token indices sequence length is longer than the specified maximum sequence length for this model (526 > 512). Running this sequence through the model will result in indexing errors\n",
      "100%|██████████| 993847/993847 [14:09<00:00, 1170.52it/s]\n"
     ]
    }
   ],
   "source": [
    "folder = '../data/rebel'\n",
    "\n",
    "split=\"train\" \n",
    "output_split = \"train\"\n",
    "\n",
    "process_split(split, output_split, folder)\n",
    "\n",
    "split=\"val\" \n",
    "output_split = \"val\"\n",
    "\n",
    "process_split(split, output_split, folder)\n",
    "\n",
    "split=\"test\" \n",
    "output_split = \"test\"\n",
    "\n",
    "process_split(split, output_split, folder)"
   ]
  },
  {
   "cell_type": "markdown",
   "metadata": {},
   "source": [
    "##### SDG (code_davinci)"
   ]
  },
  {
   "cell_type": "code",
   "execution_count": 14,
   "metadata": {},
   "outputs": [
    {
     "name": "stderr",
     "output_type": "stream",
     "text": [
      "100%|██████████| 179255/179255 [06:14<00:00, 478.93it/s]\n"
     ]
    }
   ],
   "source": [
    "folder = '../data/sdg'\n",
    "split = \"_train_code_davinci.jsonl\"\n",
    "process_split(split, split, folder)\n",
    "\n",
    "folder = '../data/sdg'\n",
    "split = \"test_code_davinci\"\n",
    "process_split(split, split, folder)"
   ]
  },
  {
   "attachments": {},
   "cell_type": "markdown",
   "metadata": {},
   "source": [
    "### Split SDG train on train and val"
   ]
  },
  {
   "cell_type": "code",
   "execution_count": 9,
   "metadata": {},
   "outputs": [],
   "source": [
    "def split_on_train_val(data, num_val_datapoints, identifier, seed=123):\n",
    "    random_state = np.random.RandomState(seed)\n",
    "\n",
    "    val_indices = random_state.choice(len(data), num_val_datapoints, replace=False)\n",
    "    train_indices = np.setdiff1d(np.arange(len(data)), val_indices)\n",
    "\n",
    "    assert len(np.intersect1d(train_indices, val_indices)) == 0\n",
    "    assert len(np.union1d(train_indices, val_indices)) == len(data)\n",
    "\n",
    "    val_data = [data[i] for i in sorted(val_indices)]\n",
    "    output_file_path = os.path.join(folder, f\"val_{identifier}.jsonl\")\n",
    "    with jsonlines.open(output_file_path, \"w\") as writer:\n",
    "        writer.write_all(val_data)\n",
    "\n",
    "    train_data = [data[i] for i in sorted(train_indices)]\n",
    "    output_file_path = os.path.join(folder, f\"train_{identifier}.jsonl\")\n",
    "    with jsonlines.open(output_file_path, \"w\") as writer:\n",
    "        writer.write_all(train_data)\n",
    "\n",
    "folder = '../data/sdg'\n",
    "split = \"_train_code_davinci\"\n",
    "path_to_file = os.path.join(folder, split + '.jsonl')\n",
    "data = read_jsonl(path_to_file)\n",
    "\n",
    "split_on_train_val(data, 15000, \"code_davinci\")"
   ]
  },
  {
   "attachments": {},
   "cell_type": "markdown",
   "metadata": {},
   "source": [
    "### Subsample the REBEL test set"
   ]
  },
  {
   "cell_type": "code",
   "execution_count": 49,
   "metadata": {},
   "outputs": [
    {
     "name": "stdout",
     "output_type": "stream",
     "text": [
      "Writing 20 datapoints to ../data/rebel/test_20.jsonl\n",
      "Writing 10000 datapoints to ../data/rebel/test_10k.jsonl\n",
      "Writing 20000 datapoints to ../data/rebel/test_20k.jsonl\n"
     ]
    }
   ],
   "source": [
    "def subsample(folder, split, num_datapoints, identifier, seed=12345):\n",
    "    path_to_file = os.path.join(folder, split + '.jsonl')\n",
    "    data = read_jsonl(path_to_file)\n",
    "\n",
    "    random_state = np.random.RandomState(seed)\n",
    "\n",
    "    indices = random_state.choice(len(data), num_datapoints, replace=False)\n",
    "    data = [data[i] for i in sorted(indices)]\n",
    "    \n",
    "    output_file_path = os.path.join(folder, f\"{split}_{identifier}.jsonl\")\n",
    "    print(f\"Writing {len(data)} datapoints to {output_file_path}\")\n",
    "    with jsonlines.open(output_file_path, \"w\") as writer:\n",
    "        writer.write_all(data)\n",
    "\n",
    "folder = '../data/rebel'\n",
    "split =  'test'\n",
    "_id2num_datapoints = {\"20\": 20, \"10k\": 10000, \"20k\": 20000}\n",
    "\n",
    "for _id, num_datapoints in _id2num_datapoints.items():\n",
    "    subsample(folder, split, num_datapoints, _id)"
   ]
  },
  {
   "cell_type": "markdown",
   "metadata": {},
   "source": [
    "### Subsample the SDG test set"
   ]
  },
  {
   "cell_type": "code",
   "execution_count": 11,
   "metadata": {},
   "outputs": [
    {
     "name": "stdout",
     "output_type": "stream",
     "text": [
      "Writing 20 datapoints to ../data/sdg/test_code_davinci_20.jsonl\n",
      "Writing 10000 datapoints to ../data/sdg/test_code_davinci_10k.jsonl\n"
     ]
    }
   ],
   "source": [
    "def subsample(folder, split, num_datapoints, identifier, seed=12345):\n",
    "    path_to_file = os.path.join(folder, split + '.jsonl')\n",
    "    data = read_jsonl(path_to_file)\n",
    "\n",
    "    random_state = np.random.RandomState(seed)\n",
    "\n",
    "    indices = random_state.choice(len(data), num_datapoints, replace=False)\n",
    "    data = [data[i] for i in sorted(indices)]\n",
    "    \n",
    "    output_file_path = os.path.join(folder, f\"{split}_{identifier}.jsonl\")\n",
    "    print(f\"Writing {len(data)} datapoints to {output_file_path}\")\n",
    "    with jsonlines.open(output_file_path, \"w\") as writer:\n",
    "        writer.write_all(data)\n",
    "\n",
    "folder = '../data/sdg'\n",
    "split =  'test_code_davinci'\n",
    "_id2num_datapoints = {\"20\": 20, \"10k\": 10000} #,  \"20k\": 20000}\n",
    "\n",
    "for _id, num_datapoints in _id2num_datapoints.items():\n",
    "    subsample(folder, split, num_datapoints, _id)"
   ]
  },
  {
   "attachments": {},
   "cell_type": "markdown",
   "metadata": {},
   "source": [
    "### Old dev code"
   ]
  },
  {
   "cell_type": "code",
   "execution_count": 19,
   "metadata": {},
   "outputs": [],
   "source": [
    "n_target_tokens = [dp[\"num_tokens_target\"] for dp in data]\n",
    "n_input_tokens = [dp[\"num_tokens_input\"] for dp in data]"
   ]
  },
  {
   "cell_type": "code",
   "execution_count": 23,
   "metadata": {},
   "outputs": [
    {
     "data": {
      "text/plain": [
       "(523, 19)"
      ]
     },
     "execution_count": 23,
     "metadata": {},
     "output_type": "execute_result"
    }
   ],
   "source": [
    "max(n_target_tokens), min(n_target_tokens)"
   ]
  },
  {
   "cell_type": "code",
   "execution_count": null,
   "metadata": {},
   "outputs": [],
   "source": []
  },
  {
   "cell_type": "code",
   "execution_count": 30,
   "metadata": {},
   "outputs": [],
   "source": [
    "import numpy as np \n",
    "import matplotlib.pyplot as plt\n",
    "%matplotlib inline\n",
    "\n",
    "def visualize(num_tokens, binwidth=10):\n",
    "    plt.hist(num_tokens, bins=np.arange(min(num_tokens), max(num_tokens) + binwidth, binwidth))\n",
    "    plt.title(f\"[{label}] Token distribution for {field}\")\n",
    "    plt.show()\n",
    "\n"
   ]
  },
  {
   "cell_type": "code",
   "execution_count": null,
   "metadata": {},
   "outputs": [],
   "source": []
  },
  {
   "cell_type": "code",
   "execution_count": 24,
   "metadata": {},
   "outputs": [],
   "source": [
    "def visualize_token_distribution(dataset, label, field=\"text\"):\n",
    "    binwidth = 10\n",
    "    num_tokens = [datamodule.tokenizer(dp[field], return_tensors=\"pt\")['input_ids'].numel() for dp in dataset]\n",
    "    # plt.hist(num_tokens, bins=np.arange(min(num_tokens), max(num_tokens) + binwidth, binwidth))\n",
    "    # plt.title(f\"[{label}] Token distribution for {field}\")\n",
    "    # plt.show()\n",
    "    print(f\"[{label}, {field}] Max {max(num_tokens)}, Min {min(num_tokens)}\")"
   ]
  },
  {
   "cell_type": "code",
   "execution_count": 25,
   "metadata": {},
   "outputs": [
    {
     "ename": "NameError",
     "evalue": "name 'datamodule' is not defined",
     "output_type": "error",
     "traceback": [
      "\u001b[0;31m---------------------------------------------------------------------------\u001b[0m",
      "\u001b[0;31mNameError\u001b[0m                                 Traceback (most recent call last)",
      "\u001b[1;32m/Users/josifosk/Documents/PhD/SynthIE_main/notebooks/add_linearized_data_and_length.ipynb Cell 11\u001b[0m in \u001b[0;36m<cell line: 1>\u001b[0;34m()\u001b[0m\n\u001b[0;32m----> <a href='vscode-notebook-cell:/Users/josifosk/Documents/PhD/SynthIE_main/notebooks/add_linearized_data_and_length.ipynb#Y366sZmlsZQ%3D%3D?line=0'>1</a>\u001b[0m visualize_token_distribution(data, \u001b[39m\"\u001b[39;49m\u001b[39mtrain_code_davinci\u001b[39;49m\u001b[39m\"\u001b[39;49m, field\u001b[39m=\u001b[39;49m\u001b[39m\"\u001b[39;49m\u001b[39mtext\u001b[39;49m\u001b[39m\"\u001b[39;49m)\n",
      "\u001b[1;32m/Users/josifosk/Documents/PhD/SynthIE_main/notebooks/add_linearized_data_and_length.ipynb Cell 11\u001b[0m in \u001b[0;36mvisualize_token_distribution\u001b[0;34m(dataset, label, field)\u001b[0m\n\u001b[1;32m      <a href='vscode-notebook-cell:/Users/josifosk/Documents/PhD/SynthIE_main/notebooks/add_linearized_data_and_length.ipynb#Y366sZmlsZQ%3D%3D?line=0'>1</a>\u001b[0m \u001b[39mdef\u001b[39;00m \u001b[39mvisualize_token_distribution\u001b[39m(dataset, label, field\u001b[39m=\u001b[39m\u001b[39m\"\u001b[39m\u001b[39mtext\u001b[39m\u001b[39m\"\u001b[39m):\n\u001b[1;32m      <a href='vscode-notebook-cell:/Users/josifosk/Documents/PhD/SynthIE_main/notebooks/add_linearized_data_and_length.ipynb#Y366sZmlsZQ%3D%3D?line=1'>2</a>\u001b[0m     binwidth \u001b[39m=\u001b[39m \u001b[39m10\u001b[39m\n\u001b[0;32m----> <a href='vscode-notebook-cell:/Users/josifosk/Documents/PhD/SynthIE_main/notebooks/add_linearized_data_and_length.ipynb#Y366sZmlsZQ%3D%3D?line=2'>3</a>\u001b[0m     num_tokens \u001b[39m=\u001b[39m [datamodule\u001b[39m.\u001b[39mtokenizer(dp[field], return_tensors\u001b[39m=\u001b[39m\u001b[39m\"\u001b[39m\u001b[39mpt\u001b[39m\u001b[39m\"\u001b[39m)[\u001b[39m'\u001b[39m\u001b[39minput_ids\u001b[39m\u001b[39m'\u001b[39m]\u001b[39m.\u001b[39mnumel() \u001b[39mfor\u001b[39;00m dp \u001b[39min\u001b[39;00m dataset]\n\u001b[1;32m      <a href='vscode-notebook-cell:/Users/josifosk/Documents/PhD/SynthIE_main/notebooks/add_linearized_data_and_length.ipynb#Y366sZmlsZQ%3D%3D?line=3'>4</a>\u001b[0m     \u001b[39m# plt.hist(num_tokens, bins=np.arange(min(num_tokens), max(num_tokens) + binwidth, binwidth))\u001b[39;00m\n\u001b[1;32m      <a href='vscode-notebook-cell:/Users/josifosk/Documents/PhD/SynthIE_main/notebooks/add_linearized_data_and_length.ipynb#Y366sZmlsZQ%3D%3D?line=4'>5</a>\u001b[0m     \u001b[39m# plt.title(f\"[{label}] Token distribution for {field}\")\u001b[39;00m\n\u001b[1;32m      <a href='vscode-notebook-cell:/Users/josifosk/Documents/PhD/SynthIE_main/notebooks/add_linearized_data_and_length.ipynb#Y366sZmlsZQ%3D%3D?line=5'>6</a>\u001b[0m     \u001b[39m# plt.show()\u001b[39;00m\n\u001b[1;32m      <a href='vscode-notebook-cell:/Users/josifosk/Documents/PhD/SynthIE_main/notebooks/add_linearized_data_and_length.ipynb#Y366sZmlsZQ%3D%3D?line=6'>7</a>\u001b[0m     \u001b[39mprint\u001b[39m(\u001b[39mf\u001b[39m\u001b[39m\"\u001b[39m\u001b[39m[\u001b[39m\u001b[39m{\u001b[39;00mlabel\u001b[39m}\u001b[39;00m\u001b[39m, \u001b[39m\u001b[39m{\u001b[39;00mfield\u001b[39m}\u001b[39;00m\u001b[39m] Max \u001b[39m\u001b[39m{\u001b[39;00m\u001b[39mmax\u001b[39m(num_tokens)\u001b[39m}\u001b[39;00m\u001b[39m, Min \u001b[39m\u001b[39m{\u001b[39;00m\u001b[39mmin\u001b[39m(num_tokens)\u001b[39m}\u001b[39;00m\u001b[39m\"\u001b[39m)\n",
      "\u001b[1;32m/Users/josifosk/Documents/PhD/SynthIE_main/notebooks/add_linearized_data_and_length.ipynb Cell 11\u001b[0m in \u001b[0;36m<listcomp>\u001b[0;34m(.0)\u001b[0m\n\u001b[1;32m      <a href='vscode-notebook-cell:/Users/josifosk/Documents/PhD/SynthIE_main/notebooks/add_linearized_data_and_length.ipynb#Y366sZmlsZQ%3D%3D?line=0'>1</a>\u001b[0m \u001b[39mdef\u001b[39;00m \u001b[39mvisualize_token_distribution\u001b[39m(dataset, label, field\u001b[39m=\u001b[39m\u001b[39m\"\u001b[39m\u001b[39mtext\u001b[39m\u001b[39m\"\u001b[39m):\n\u001b[1;32m      <a href='vscode-notebook-cell:/Users/josifosk/Documents/PhD/SynthIE_main/notebooks/add_linearized_data_and_length.ipynb#Y366sZmlsZQ%3D%3D?line=1'>2</a>\u001b[0m     binwidth \u001b[39m=\u001b[39m \u001b[39m10\u001b[39m\n\u001b[0;32m----> <a href='vscode-notebook-cell:/Users/josifosk/Documents/PhD/SynthIE_main/notebooks/add_linearized_data_and_length.ipynb#Y366sZmlsZQ%3D%3D?line=2'>3</a>\u001b[0m     num_tokens \u001b[39m=\u001b[39m [datamodule\u001b[39m.\u001b[39mtokenizer(dp[field], return_tensors\u001b[39m=\u001b[39m\u001b[39m\"\u001b[39m\u001b[39mpt\u001b[39m\u001b[39m\"\u001b[39m)[\u001b[39m'\u001b[39m\u001b[39minput_ids\u001b[39m\u001b[39m'\u001b[39m]\u001b[39m.\u001b[39mnumel() \u001b[39mfor\u001b[39;00m dp \u001b[39min\u001b[39;00m dataset]\n\u001b[1;32m      <a href='vscode-notebook-cell:/Users/josifosk/Documents/PhD/SynthIE_main/notebooks/add_linearized_data_and_length.ipynb#Y366sZmlsZQ%3D%3D?line=3'>4</a>\u001b[0m     \u001b[39m# plt.hist(num_tokens, bins=np.arange(min(num_tokens), max(num_tokens) + binwidth, binwidth))\u001b[39;00m\n\u001b[1;32m      <a href='vscode-notebook-cell:/Users/josifosk/Documents/PhD/SynthIE_main/notebooks/add_linearized_data_and_length.ipynb#Y366sZmlsZQ%3D%3D?line=4'>5</a>\u001b[0m     \u001b[39m# plt.title(f\"[{label}] Token distribution for {field}\")\u001b[39;00m\n\u001b[1;32m      <a href='vscode-notebook-cell:/Users/josifosk/Documents/PhD/SynthIE_main/notebooks/add_linearized_data_and_length.ipynb#Y366sZmlsZQ%3D%3D?line=5'>6</a>\u001b[0m     \u001b[39m# plt.show()\u001b[39;00m\n\u001b[1;32m      <a href='vscode-notebook-cell:/Users/josifosk/Documents/PhD/SynthIE_main/notebooks/add_linearized_data_and_length.ipynb#Y366sZmlsZQ%3D%3D?line=6'>7</a>\u001b[0m     \u001b[39mprint\u001b[39m(\u001b[39mf\u001b[39m\u001b[39m\"\u001b[39m\u001b[39m[\u001b[39m\u001b[39m{\u001b[39;00mlabel\u001b[39m}\u001b[39;00m\u001b[39m, \u001b[39m\u001b[39m{\u001b[39;00mfield\u001b[39m}\u001b[39;00m\u001b[39m] Max \u001b[39m\u001b[39m{\u001b[39;00m\u001b[39mmax\u001b[39m(num_tokens)\u001b[39m}\u001b[39;00m\u001b[39m, Min \u001b[39m\u001b[39m{\u001b[39;00m\u001b[39mmin\u001b[39m(num_tokens)\u001b[39m}\u001b[39;00m\u001b[39m\"\u001b[39m)\n",
      "\u001b[0;31mNameError\u001b[0m: name 'datamodule' is not defined"
     ]
    }
   ],
   "source": [
    "visualize_token_distribution(data, \"train_code_davinci\", field=\"text\")"
   ]
  },
  {
   "cell_type": "code",
   "execution_count": 11,
   "metadata": {},
   "outputs": [],
   "source": [
    "from typing import List, Tuple, Union\n",
    "\n",
    "\n",
    "class TripletUtils(object):\n",
    "    @staticmethod\n",
    "    def normalize_spaces(name, keep_spaces: bool) -> str:\n",
    "        name = name.strip()\n",
    "        if keep_spaces:\n",
    "            return name.replace(\"_\", \" \")\n",
    "        \n",
    "        return name.replace(\" \", \"_\")\n",
    "        \n",
    "\n",
    "    @staticmethod\n",
    "    def linearize_triplet_list(\n",
    "        triplet_list: List[Tuple[str, str, str]], formatted_triplet: str, separator: str, keep_spaces: bool, tokenizer=None\n",
    "    ) -> str:\n",
    "        surface_forms = {\"{}\": sub, \"{relation}\": rel, \"{object}\": obj, \"{sep}\": separator}\n",
    "        linearized_triplets = []\n",
    "\n",
    "        for sub, relation, object in triplet_list:\n",
    "            surface_form = {\"{subject}\": sub, \"{relation}\": rel, \"{object}\": obj, \"{sep}\": separator}\n",
    "\n",
    "            sub = TripletUtils.normalize_spaces(surface_form[\"{subject}\"], keep_spaces)\n",
    "            rel = TripletUtils.normalize_spaces(surface_form[\"{relation}\"], True)\n",
    "            obj = TripletUtils.normalize_spaces(surface_form[\"{object}\"], keep_spaces)\n",
    "\n",
    "            linearized_triplets.append(\n",
    "                formatted_triplet.replace(\"{subject}\", sub).replace(\"{relation}\", rel).replace(\"{object}\", obj)\n",
    "            )\n",
    "\n",
    "        return separator.join(linearized_triplets)\n",
    "\n",
    "\n",
    "    @staticmethod\n",
    "    def linearize_triplet_list_complex(triplet_list: List[Tuple[str, str, str]], formatted_triplet: list, surface_forms, keep_spaces: bool, tokenizer=None):\n",
    "        linearized_triplets = []\n",
    "\n",
    "        for sub, rel, obj in triplet_list:\n",
    "            surface_forms.update({\"{subject}\": sub, \"{relation}\": rel, \"{object}\": obj})\n",
    "\n",
    "            surface_forms[\"{subject}\"] = TripletUtils.normalize_spaces(surface_forms[\"{subject}\"], keep_spaces)\n",
    "            surface_forms[\"{relation}\"] = TripletUtils.normalize_spaces(surface_forms[\"{relation}\"], True)\n",
    "            surface_forms[\"{object}\"] = TripletUtils.normalize_spaces(surface_forms[\"{object}\"], keep_spaces)\n",
    "\n",
    "            linearized_triplets.extend([surface_forms.get(item, item) for item in formatted_triplet])\n",
    "            linearized_triplets.append(surface_forms['{separator}'])\n",
    "           \n",
    "        linearized_triplets = linearized_triplets[:-1]\n",
    "        linearized_triplet = \"\".join(linearized_triplets)\n",
    "\n",
    "        if tokenizer is None:\n",
    "            return linearized_triplet, None\n",
    "\n",
    "        tokenized_linearized_triplet_parts = tokenizer(linearized_triplets, return_attention_mask=False)['input_ids']\n",
    "        tokenized_linearized_triplet = [token for part in tokenized_linearized_triplet_parts for token in part[:-1]] + [tokenizer.eos_token_id]\n",
    "        return linearized_triplet, tokenized_linearized_triplet"
   ]
  },
  {
   "cell_type": "code",
   "execution_count": 61,
   "metadata": {},
   "outputs": [],
   "source": [
    "text1, input_ids1 = TripletUtils.linearize_triplet_list_complex([(\"E1\", \"R1\", \"E2\"), (\"E3\", \"R2_2\", \"E4 3\")], tokenizer=tokenizer, **target_linearization)\n",
    "text2, input_ids2 = TripletUtils.linearize_triplet_list_complex([(\"E1\", \"R1\", \"E2\"), (\"E3\", \"R2\", \"E4\"), (\"E5\", \"R3\", \"R6\")], tokenizer=tokenizer, **target_linearization)\n"
   ]
  }
 ],
 "metadata": {
  "kernelspec": {
   "display_name": "Python 3.9.13 ('mlr')",
   "language": "python",
   "name": "python3"
  },
  "language_info": {
   "codemirror_mode": {
    "name": "ipython",
    "version": 3
   },
   "file_extension": ".py",
   "mimetype": "text/x-python",
   "name": "python",
   "nbconvert_exporter": "python",
   "pygments_lexer": "ipython3",
   "version": "3.9.13"
  },
  "orig_nbformat": 4,
  "vscode": {
   "interpreter": {
    "hash": "61a29ff56f295d5304320f1d8bf976f57364ea8d91ff2512104112c4617b5d63"
   }
  }
 },
 "nbformat": 4,
 "nbformat_minor": 2
}
